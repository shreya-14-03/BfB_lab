{
  "nbformat": 4,
  "nbformat_minor": 0,
  "metadata": {
    "colab": {
      "name": "BFB_lab9.ipynb",
      "provenance": [],
      "authorship_tag": "ABX9TyOFp4MbPLAPZHPv1s+HJ4fP",
      "include_colab_link": true
    },
    "kernelspec": {
      "name": "python3",
      "display_name": "Python 3"
    },
    "language_info": {
      "name": "python"
    }
  },
  "cells": [
    {
      "cell_type": "markdown",
      "metadata": {
        "id": "view-in-github",
        "colab_type": "text"
      },
      "source": [
        "<a href=\"https://colab.research.google.com/github/shreya-14-03/BfB_lab/blob/main/BFB_lab9.ipynb\" target=\"_parent\"><img src=\"https://colab.research.google.com/assets/colab-badge.svg\" alt=\"Open In Colab\"/></a>"
      ]
    },
    {
      "cell_type": "code",
      "execution_count": null,
      "metadata": {
        "id": "6f0OTItJdUf1"
      },
      "outputs": [],
      "source": [
        "import hashlib\n",
        "import os\n",
        "os.mkdir('folder')"
      ]
    },
    {
      "cell_type": "code",
      "source": [
        "for i in range(1,6):\n",
        " f= open(\"folder/file\"+str(i)+\".txt\",\"w\")\n",
        " s = input(\"Enter any value: \")\n",
        " f.write(s)\n",
        " f.close()"
      ],
      "metadata": {
        "colab": {
          "base_uri": "https://localhost:8080/"
        },
        "id": "1JBTx9ASdWsD",
        "outputId": "0b8d01a0-1ce6-47d0-eeaf-9b5f745a5534"
      },
      "execution_count": null,
      "outputs": [
        {
          "name": "stdout",
          "output_type": "stream",
          "text": [
            "Enter any value: shreya\n",
            "Enter any value: dehradun\n",
            "Enter any value: upes\n",
            "Enter any value: cs\n",
            "Enter any value: dehradun\n"
          ]
        }
      ]
    },
    {
      "cell_type": "code",
      "source": [
        "ls = list()\n",
        "for i in range(1,6):\n",
        " f= open(\"folder/file\"+str(i)+\".txt\",\"r\")\n",
        " msg=f.read()\n",
        " hm=hashlib.sha256(msg.encode()).hexdigest()\n",
        " ls.append(str(hm))\n",
        " f.close()"
      ],
      "metadata": {
        "id": "--TvI_HcdZWN"
      },
      "execution_count": null,
      "outputs": []
    },
    {
      "cell_type": "code",
      "source": [
        "ls2= set()\n",
        "for i in range(0,5):\n",
        "  for j in range(i+1,5):\n",
        "    if (ls[i]==ls[j]):\n",
        "      ls2.add(\"file\"+str(i+1))\n",
        "      ls2.add(\"file\"+str(j+1))"
      ],
      "metadata": {
        "id": "lRzLwotGdp0L"
      },
      "execution_count": null,
      "outputs": []
    },
    {
      "cell_type": "code",
      "source": [
        "ls3 = list(ls2)\n",
        "while(len(ls3)!=0):\n",
        " flag=0\n",
        " print(ls3[0],end=\",\")\n",
        " for j in range(1,len(ls3)):\n",
        "   if(flag):\n",
        "     j-=1\n",
        "   f= open(\"folder/\"+ls3[0]+\".txt\",\"r\")\n",
        "   r=f.read()\n",
        "   f1= open(\"folder/\"+ls3[j]+\".txt\",\"r\")\n",
        "   r1=f1.read()\n",
        "   hm=hashlib.sha256(r.encode()).hexdigest()\n",
        "   hm1=hashlib.sha256(r1.encode()).hexdigest()\n",
        "   if(hm==hm1):\n",
        "     print(ls3[j])\n",
        "     ls3.remove(ls3[j])\n",
        "     flag=1\n",
        "   else:\n",
        "     flag=0\n",
        " ls3.remove(ls3[0])\n",
        " print()"
      ],
      "metadata": {
        "colab": {
          "base_uri": "https://localhost:8080/"
        },
        "id": "3BGSz6nrdus9",
        "outputId": "829a9b31-7b74-4d9a-aed3-522d005224ef"
      },
      "execution_count": 13,
      "outputs": [
        {
          "output_type": "stream",
          "name": "stdout",
          "text": [
            "file2,file5\n",
            "\n"
          ]
        }
      ]
    },
    {
      "cell_type": "code",
      "source": [
        ""
      ],
      "metadata": {
        "id": "D3XCXRLNd196"
      },
      "execution_count": null,
      "outputs": []
    }
  ]
}